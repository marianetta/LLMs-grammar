{
  "cells": [
    {
      "cell_type": "code",
      "execution_count": null,
      "metadata": {
        "id": "xuoRNxdc8Ry2"
      },
      "outputs": [],
      "source": [
        "import sklearn\n",
        "from sklearn.metrics import accuracy_score\n",
        "from sklearn.metrics import matthews_corrcoef"
      ]
    },
    {
      "cell_type": "code",
      "execution_count": null,
      "metadata": {
        "id": "0umdS06M5zfz"
      },
      "outputs": [],
      "source": [
        "def tsv_to_array(path, n):   # n -- номер столбца с лейблом\n",
        "  arr = []\n",
        "  with open(path) as f:\n",
        "    for line in f.readlines():\n",
        "      #print(line.split('\\t')[0])\n",
        "      arr.append(line.split('\\t')[n].rstrip('\\n'))\n",
        "  return arr\n",
        "\n",
        "\n",
        "def tsv_to_array_fors(path, n):   # то же самое для сайги (другая кодировка)\n",
        "  arr = []\n",
        "  with open(path, encoding = 'utf-16') as f:\n",
        "    for line in f.readlines():\n",
        "      arr.append(line.split('\\t')[n].rstrip('\\n'))\n",
        "  return arr"
      ]
    },
    {
      "cell_type": "code",
      "execution_count": null,
      "metadata": {
        "id": "YPxobfs-7HhB"
      },
      "outputs": [],
      "source": [
        "def assess(pred, target):\n",
        "  return accuracy_score(pred, target), matthews_corrcoef(target, pred)"
      ]
    },
    {
      "cell_type": "code",
      "execution_count": null,
      "metadata": {
        "colab": {
          "base_uri": "https://localhost:8080/"
        },
        "id": "hB-Plgdy6a9f",
        "outputId": "88b099a8-dec2-432b-b83a-06f5817e1808"
      },
      "outputs": [
        {
          "output_type": "stream",
          "name": "stdout",
          "text": [
            "(0.7724418175101588, 0.47305019084063316)\n"
          ]
        }
      ],
      "source": [
        "pred = tsv_to_array('/content/yandexgpt_rucola_ru_21_05_2024_label+cat+expl+corr_2.tsv', 2)   # файл от модели\n",
        "target = tsv_to_array('data_new.tsv', 2)        # файл с руколой  (label-2, category-3)\n",
        "print(assess(pred, target))"
      ]
    }
  ],
  "metadata": {
    "colab": {
      "provenance": []
    },
    "kernelspec": {
      "display_name": "Python 3",
      "name": "python3"
    },
    "language_info": {
      "name": "python"
    }
  },
  "nbformat": 4,
  "nbformat_minor": 0
}

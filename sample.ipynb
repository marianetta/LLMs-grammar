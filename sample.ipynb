{
  "nbformat": 4,
  "nbformat_minor": 0,
  "metadata": {
    "colab": {
      "provenance": []
    },
    "kernelspec": {
      "name": "python3",
      "display_name": "Python 3"
    },
    "language_info": {
      "name": "python"
    }
  },
  "cells": [
    {
      "cell_type": "code",
      "execution_count": 1,
      "metadata": {
        "id": "QYQEpXhFpMrv"
      },
      "outputs": [],
      "source": [
        "import pandas as pd\n",
        "import random"
      ]
    },
    {
      "cell_type": "code",
      "source": [
        "df = pd.read_csv('/content/yandexgpt_rucola_ru_20_05_2024_label+cat+expl+corr.tsv',\n",
        "names = ['id', 'sentence', 'label_pred', 'category_pred', 'explanation', 'correction'],\n",
        "sep ='\\t', on_bad_lines='skip', index_col = False)  #path to file with model's answers\n",
        "\n",
        "gold = pd.read_csv('/content/data_new.tsv',\n",
        "names = ['id', 'sentence', 'label', 'category', 'source', 'domain'],\n",
        "sep = '\\t') #path to dataset file"
      ],
      "metadata": {
        "id": "V3vpK65fpcg4"
      },
      "execution_count": 2,
      "outputs": []
    },
    {
      "cell_type": "code",
      "source": [
        "df = df.merge(gold, how='inner', on='id')\n",
        "\n",
        "errors = df[df['label'] == 0]\n",
        "final = errors[errors['label_pred'] == 0]\n",
        "\n",
        "sample = final.sample(50)\n",
        "sample.to_csv('yagpt_cat+expl+corr_sample.tsv', sep = '\\t') #path to output file"
      ],
      "metadata": {
        "id": "nceFRJOntLSr"
      },
      "execution_count": 6,
      "outputs": []
    }
  ]
}
